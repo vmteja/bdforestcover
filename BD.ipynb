{
 "cells": [
  {
   "cell_type": "code",
   "execution_count": 1,
   "metadata": {
    "collapsed": false
   },
   "outputs": [],
   "source": [
    "import pandas as pd\n",
    "import numpy as np\n",
    "from sklearn.cross_validation import train_test_split\n",
    "from sklearn.grid_search import GridSearchCV\n",
    "from sklearn.ensemble import GradientBoostingClassifier\n",
    "from sklearn.metrics import accuracy_score\n",
    "import scipy.stats as scipy\n",
    "from sklearn.ensemble import RandomForestClassifier \n",
    "from sklearn import preprocessing\n",
    "from sklearn import metrics\n",
    "\n",
    "\n",
    "train = r\"C:\\Users\\Krishna Teja\\Desktop\\bigdata\\train.csv\"\n",
    "test =  r\"C:\\Users\\Krishna Teja\\Desktop\\bigdata\\test.csv\"\n",
    "\n",
    "train = pd.read_csv(train)\n",
    "test = pd.read_csv(test)"
   ]
  },
  {
   "cell_type": "code",
   "execution_count": 3,
   "metadata": {
    "collapsed": false
   },
   "outputs": [
    {
     "data": {
      "text/html": [
       "<div>\n",
       "<table border=\"1\" class=\"dataframe\">\n",
       "  <thead>\n",
       "    <tr style=\"text-align: right;\">\n",
       "      <th></th>\n",
       "      <th>Elevation</th>\n",
       "      <th>Aspect</th>\n",
       "      <th>Slope</th>\n",
       "      <th>Horizontal_Distance_To_Hydrology</th>\n",
       "      <th>Vertical_Distance_To_Hydrology</th>\n",
       "      <th>Horizontal_Distance_To_Roadways</th>\n",
       "      <th>Hillshade_9am</th>\n",
       "      <th>Hillshade_Noon</th>\n",
       "      <th>Hillshade_3pm</th>\n",
       "      <th>Horizontal_Distance_To_Fire_Points</th>\n",
       "      <th>...</th>\n",
       "      <th>Soil_Type32</th>\n",
       "      <th>Soil_Type33</th>\n",
       "      <th>Soil_Type34</th>\n",
       "      <th>Soil_Type35</th>\n",
       "      <th>Soil_Type36</th>\n",
       "      <th>Soil_Type37</th>\n",
       "      <th>Soil_Type38</th>\n",
       "      <th>Soil_Type39</th>\n",
       "      <th>Soil_Type40</th>\n",
       "      <th>Cover_Type</th>\n",
       "    </tr>\n",
       "  </thead>\n",
       "  <tbody>\n",
       "    <tr>\n",
       "      <th>count</th>\n",
       "      <td>15120.000000</td>\n",
       "      <td>15120.000000</td>\n",
       "      <td>15120.000000</td>\n",
       "      <td>15120.000000</td>\n",
       "      <td>15120.000000</td>\n",
       "      <td>15120.000000</td>\n",
       "      <td>15120.000000</td>\n",
       "      <td>15120.000000</td>\n",
       "      <td>15120.000000</td>\n",
       "      <td>15120.000000</td>\n",
       "      <td>...</td>\n",
       "      <td>15120.000000</td>\n",
       "      <td>15120.000000</td>\n",
       "      <td>15120.000000</td>\n",
       "      <td>15120.000000</td>\n",
       "      <td>15120.000000</td>\n",
       "      <td>15120.000000</td>\n",
       "      <td>15120.000000</td>\n",
       "      <td>15120.000000</td>\n",
       "      <td>15120.000000</td>\n",
       "      <td>15120.000000</td>\n",
       "    </tr>\n",
       "    <tr>\n",
       "      <th>mean</th>\n",
       "      <td>2749.322553</td>\n",
       "      <td>156.676653</td>\n",
       "      <td>16.501587</td>\n",
       "      <td>227.195701</td>\n",
       "      <td>51.076521</td>\n",
       "      <td>1714.023214</td>\n",
       "      <td>212.704299</td>\n",
       "      <td>218.965608</td>\n",
       "      <td>135.091997</td>\n",
       "      <td>1511.147288</td>\n",
       "      <td>...</td>\n",
       "      <td>0.045635</td>\n",
       "      <td>0.040741</td>\n",
       "      <td>0.001455</td>\n",
       "      <td>0.006746</td>\n",
       "      <td>0.000661</td>\n",
       "      <td>0.002249</td>\n",
       "      <td>0.048148</td>\n",
       "      <td>0.043452</td>\n",
       "      <td>0.030357</td>\n",
       "      <td>4.000000</td>\n",
       "    </tr>\n",
       "    <tr>\n",
       "      <th>std</th>\n",
       "      <td>417.678187</td>\n",
       "      <td>110.085801</td>\n",
       "      <td>8.453927</td>\n",
       "      <td>210.075296</td>\n",
       "      <td>61.239406</td>\n",
       "      <td>1325.066358</td>\n",
       "      <td>30.561287</td>\n",
       "      <td>22.801966</td>\n",
       "      <td>45.895189</td>\n",
       "      <td>1099.936493</td>\n",
       "      <td>...</td>\n",
       "      <td>0.208699</td>\n",
       "      <td>0.197696</td>\n",
       "      <td>0.038118</td>\n",
       "      <td>0.081859</td>\n",
       "      <td>0.025710</td>\n",
       "      <td>0.047368</td>\n",
       "      <td>0.214086</td>\n",
       "      <td>0.203880</td>\n",
       "      <td>0.171574</td>\n",
       "      <td>2.000066</td>\n",
       "    </tr>\n",
       "    <tr>\n",
       "      <th>min</th>\n",
       "      <td>1863.000000</td>\n",
       "      <td>0.000000</td>\n",
       "      <td>0.000000</td>\n",
       "      <td>0.000000</td>\n",
       "      <td>-146.000000</td>\n",
       "      <td>0.000000</td>\n",
       "      <td>0.000000</td>\n",
       "      <td>99.000000</td>\n",
       "      <td>0.000000</td>\n",
       "      <td>0.000000</td>\n",
       "      <td>...</td>\n",
       "      <td>0.000000</td>\n",
       "      <td>0.000000</td>\n",
       "      <td>0.000000</td>\n",
       "      <td>0.000000</td>\n",
       "      <td>0.000000</td>\n",
       "      <td>0.000000</td>\n",
       "      <td>0.000000</td>\n",
       "      <td>0.000000</td>\n",
       "      <td>0.000000</td>\n",
       "      <td>1.000000</td>\n",
       "    </tr>\n",
       "    <tr>\n",
       "      <th>25%</th>\n",
       "      <td>2376.000000</td>\n",
       "      <td>65.000000</td>\n",
       "      <td>10.000000</td>\n",
       "      <td>67.000000</td>\n",
       "      <td>5.000000</td>\n",
       "      <td>764.000000</td>\n",
       "      <td>196.000000</td>\n",
       "      <td>207.000000</td>\n",
       "      <td>106.000000</td>\n",
       "      <td>730.000000</td>\n",
       "      <td>...</td>\n",
       "      <td>0.000000</td>\n",
       "      <td>0.000000</td>\n",
       "      <td>0.000000</td>\n",
       "      <td>0.000000</td>\n",
       "      <td>0.000000</td>\n",
       "      <td>0.000000</td>\n",
       "      <td>0.000000</td>\n",
       "      <td>0.000000</td>\n",
       "      <td>0.000000</td>\n",
       "      <td>2.000000</td>\n",
       "    </tr>\n",
       "    <tr>\n",
       "      <th>50%</th>\n",
       "      <td>2752.000000</td>\n",
       "      <td>126.000000</td>\n",
       "      <td>15.000000</td>\n",
       "      <td>180.000000</td>\n",
       "      <td>32.000000</td>\n",
       "      <td>1316.000000</td>\n",
       "      <td>220.000000</td>\n",
       "      <td>223.000000</td>\n",
       "      <td>138.000000</td>\n",
       "      <td>1256.000000</td>\n",
       "      <td>...</td>\n",
       "      <td>0.000000</td>\n",
       "      <td>0.000000</td>\n",
       "      <td>0.000000</td>\n",
       "      <td>0.000000</td>\n",
       "      <td>0.000000</td>\n",
       "      <td>0.000000</td>\n",
       "      <td>0.000000</td>\n",
       "      <td>0.000000</td>\n",
       "      <td>0.000000</td>\n",
       "      <td>4.000000</td>\n",
       "    </tr>\n",
       "    <tr>\n",
       "      <th>75%</th>\n",
       "      <td>3104.000000</td>\n",
       "      <td>261.000000</td>\n",
       "      <td>22.000000</td>\n",
       "      <td>330.000000</td>\n",
       "      <td>79.000000</td>\n",
       "      <td>2270.000000</td>\n",
       "      <td>235.000000</td>\n",
       "      <td>235.000000</td>\n",
       "      <td>167.000000</td>\n",
       "      <td>1988.250000</td>\n",
       "      <td>...</td>\n",
       "      <td>0.000000</td>\n",
       "      <td>0.000000</td>\n",
       "      <td>0.000000</td>\n",
       "      <td>0.000000</td>\n",
       "      <td>0.000000</td>\n",
       "      <td>0.000000</td>\n",
       "      <td>0.000000</td>\n",
       "      <td>0.000000</td>\n",
       "      <td>0.000000</td>\n",
       "      <td>6.000000</td>\n",
       "    </tr>\n",
       "    <tr>\n",
       "      <th>max</th>\n",
       "      <td>3849.000000</td>\n",
       "      <td>360.000000</td>\n",
       "      <td>52.000000</td>\n",
       "      <td>1343.000000</td>\n",
       "      <td>554.000000</td>\n",
       "      <td>6890.000000</td>\n",
       "      <td>254.000000</td>\n",
       "      <td>254.000000</td>\n",
       "      <td>248.000000</td>\n",
       "      <td>6993.000000</td>\n",
       "      <td>...</td>\n",
       "      <td>1.000000</td>\n",
       "      <td>1.000000</td>\n",
       "      <td>1.000000</td>\n",
       "      <td>1.000000</td>\n",
       "      <td>1.000000</td>\n",
       "      <td>1.000000</td>\n",
       "      <td>1.000000</td>\n",
       "      <td>1.000000</td>\n",
       "      <td>1.000000</td>\n",
       "      <td>7.000000</td>\n",
       "    </tr>\n",
       "  </tbody>\n",
       "</table>\n",
       "<p>8 rows × 55 columns</p>\n",
       "</div>"
      ],
      "text/plain": [
       "          Elevation        Aspect         Slope  \\\n",
       "count  15120.000000  15120.000000  15120.000000   \n",
       "mean    2749.322553    156.676653     16.501587   \n",
       "std      417.678187    110.085801      8.453927   \n",
       "min     1863.000000      0.000000      0.000000   \n",
       "25%     2376.000000     65.000000     10.000000   \n",
       "50%     2752.000000    126.000000     15.000000   \n",
       "75%     3104.000000    261.000000     22.000000   \n",
       "max     3849.000000    360.000000     52.000000   \n",
       "\n",
       "       Horizontal_Distance_To_Hydrology  Vertical_Distance_To_Hydrology  \\\n",
       "count                      15120.000000                    15120.000000   \n",
       "mean                         227.195701                       51.076521   \n",
       "std                          210.075296                       61.239406   \n",
       "min                            0.000000                     -146.000000   \n",
       "25%                           67.000000                        5.000000   \n",
       "50%                          180.000000                       32.000000   \n",
       "75%                          330.000000                       79.000000   \n",
       "max                         1343.000000                      554.000000   \n",
       "\n",
       "       Horizontal_Distance_To_Roadways  Hillshade_9am  Hillshade_Noon  \\\n",
       "count                     15120.000000   15120.000000    15120.000000   \n",
       "mean                       1714.023214     212.704299      218.965608   \n",
       "std                        1325.066358      30.561287       22.801966   \n",
       "min                           0.000000       0.000000       99.000000   \n",
       "25%                         764.000000     196.000000      207.000000   \n",
       "50%                        1316.000000     220.000000      223.000000   \n",
       "75%                        2270.000000     235.000000      235.000000   \n",
       "max                        6890.000000     254.000000      254.000000   \n",
       "\n",
       "       Hillshade_3pm  Horizontal_Distance_To_Fire_Points      ...       \\\n",
       "count   15120.000000                        15120.000000      ...        \n",
       "mean      135.091997                         1511.147288      ...        \n",
       "std        45.895189                         1099.936493      ...        \n",
       "min         0.000000                            0.000000      ...        \n",
       "25%       106.000000                          730.000000      ...        \n",
       "50%       138.000000                         1256.000000      ...        \n",
       "75%       167.000000                         1988.250000      ...        \n",
       "max       248.000000                         6993.000000      ...        \n",
       "\n",
       "        Soil_Type32   Soil_Type33   Soil_Type34   Soil_Type35   Soil_Type36  \\\n",
       "count  15120.000000  15120.000000  15120.000000  15120.000000  15120.000000   \n",
       "mean       0.045635      0.040741      0.001455      0.006746      0.000661   \n",
       "std        0.208699      0.197696      0.038118      0.081859      0.025710   \n",
       "min        0.000000      0.000000      0.000000      0.000000      0.000000   \n",
       "25%        0.000000      0.000000      0.000000      0.000000      0.000000   \n",
       "50%        0.000000      0.000000      0.000000      0.000000      0.000000   \n",
       "75%        0.000000      0.000000      0.000000      0.000000      0.000000   \n",
       "max        1.000000      1.000000      1.000000      1.000000      1.000000   \n",
       "\n",
       "        Soil_Type37   Soil_Type38   Soil_Type39   Soil_Type40    Cover_Type  \n",
       "count  15120.000000  15120.000000  15120.000000  15120.000000  15120.000000  \n",
       "mean       0.002249      0.048148      0.043452      0.030357      4.000000  \n",
       "std        0.047368      0.214086      0.203880      0.171574      2.000066  \n",
       "min        0.000000      0.000000      0.000000      0.000000      1.000000  \n",
       "25%        0.000000      0.000000      0.000000      0.000000      2.000000  \n",
       "50%        0.000000      0.000000      0.000000      0.000000      4.000000  \n",
       "75%        0.000000      0.000000      0.000000      0.000000      6.000000  \n",
       "max        1.000000      1.000000      1.000000      1.000000      7.000000  \n",
       "\n",
       "[8 rows x 55 columns]"
      ]
     },
     "execution_count": 3,
     "metadata": {},
     "output_type": "execute_result"
    }
   ],
   "source": [
    "import matplotlib.pyplot as plt\n",
    "train['Elevation'].plot()\n",
    "plt.show()\n",
    "train.describe()"
   ]
  },
  {
   "cell_type": "code",
   "execution_count": 3,
   "metadata": {
    "collapsed": false
   },
   "outputs": [
    {
     "data": {
      "text/plain": [
       "2290    25\n",
       "2830    25\n",
       "3371    24\n",
       "3244    23\n",
       "2820    23\n",
       "2955    23\n",
       "2795    23\n",
       "2952    23\n",
       "2962    22\n",
       "2304    22\n",
       "2809    22\n",
       "2978    22\n",
       "2413    22\n",
       "2707    22\n",
       "2850    22\n",
       "2763    22\n",
       "2289    21\n",
       "2739    21\n",
       "2827    21\n",
       "2784    21\n",
       "2807    21\n",
       "2328    21\n",
       "2311    20\n",
       "3256    20\n",
       "2751    20\n",
       "2336    20\n",
       "2340    20\n",
       "2317    20\n",
       "2264    20\n",
       "3400    20\n",
       "        ..\n",
       "3529     1\n",
       "3537     1\n",
       "3722     1\n",
       "3495     1\n",
       "3491     1\n",
       "3721     1\n",
       "1932     1\n",
       "3559     1\n",
       "3753     1\n",
       "3761     1\n",
       "3591     1\n",
       "3475     1\n",
       "3499     1\n",
       "3836     1\n",
       "1997     1\n",
       "3844     1\n",
       "1901     1\n",
       "1925     1\n",
       "1965     1\n",
       "1973     1\n",
       "1989     1\n",
       "3731     1\n",
       "3523     1\n",
       "3675     1\n",
       "3643     1\n",
       "3635     1\n",
       "3603     1\n",
       "3555     1\n",
       "3497     1\n",
       "3737     1\n",
       "Name: Elevation, dtype: int64"
      ]
     },
     "execution_count": 3,
     "metadata": {},
     "output_type": "execute_result"
    }
   ],
   "source": [
    "train.Elevation.value_counts()"
   ]
  },
  {
   "cell_type": "code",
   "execution_count": 6,
   "metadata": {
    "collapsed": false
   },
   "outputs": [
    {
     "data": {
      "text/html": [
       "<div>\n",
       "<table border=\"1\" class=\"dataframe\">\n",
       "  <thead>\n",
       "    <tr style=\"text-align: right;\">\n",
       "      <th></th>\n",
       "      <th>Id</th>\n",
       "      <th>Elevation</th>\n",
       "      <th>Aspect</th>\n",
       "      <th>Slope</th>\n",
       "      <th>Horizontal_Distance_To_Hydrology</th>\n",
       "      <th>Vertical_Distance_To_Hydrology</th>\n",
       "      <th>Horizontal_Distance_To_Roadways</th>\n",
       "      <th>Hillshade_9am</th>\n",
       "      <th>Hillshade_Noon</th>\n",
       "      <th>Hillshade_3pm</th>\n",
       "      <th>...</th>\n",
       "      <th>Soil_Type30</th>\n",
       "      <th>Soil_Type31</th>\n",
       "      <th>Soil_Type32</th>\n",
       "      <th>Soil_Type33</th>\n",
       "      <th>Soil_Type35</th>\n",
       "      <th>Soil_Type37</th>\n",
       "      <th>Soil_Type38</th>\n",
       "      <th>Soil_Type39</th>\n",
       "      <th>Soil_Type40</th>\n",
       "      <th>Cover_Type</th>\n",
       "    </tr>\n",
       "  </thead>\n",
       "  <tbody>\n",
       "    <tr>\n",
       "      <th>count</th>\n",
       "      <td>15120.00000</td>\n",
       "      <td>15120.000000</td>\n",
       "      <td>15120.000000</td>\n",
       "      <td>15120.000000</td>\n",
       "      <td>15120.000000</td>\n",
       "      <td>15120.000000</td>\n",
       "      <td>15120.000000</td>\n",
       "      <td>15120.000000</td>\n",
       "      <td>15120.000000</td>\n",
       "      <td>15120.000000</td>\n",
       "      <td>...</td>\n",
       "      <td>15120.000000</td>\n",
       "      <td>15120.000000</td>\n",
       "      <td>15120.000000</td>\n",
       "      <td>15120.000000</td>\n",
       "      <td>15120.000000</td>\n",
       "      <td>15120.000000</td>\n",
       "      <td>15120.000000</td>\n",
       "      <td>15120.000000</td>\n",
       "      <td>15120.000000</td>\n",
       "      <td>15120.000000</td>\n",
       "    </tr>\n",
       "    <tr>\n",
       "      <th>mean</th>\n",
       "      <td>7560.50000</td>\n",
       "      <td>2749.322553</td>\n",
       "      <td>156.676653</td>\n",
       "      <td>16.501587</td>\n",
       "      <td>227.195701</td>\n",
       "      <td>51.076521</td>\n",
       "      <td>1714.023214</td>\n",
       "      <td>212.704299</td>\n",
       "      <td>218.965608</td>\n",
       "      <td>135.091997</td>\n",
       "      <td>...</td>\n",
       "      <td>0.047950</td>\n",
       "      <td>0.021958</td>\n",
       "      <td>0.045635</td>\n",
       "      <td>0.040741</td>\n",
       "      <td>0.006746</td>\n",
       "      <td>0.002249</td>\n",
       "      <td>0.048148</td>\n",
       "      <td>0.043452</td>\n",
       "      <td>0.030357</td>\n",
       "      <td>4.000000</td>\n",
       "    </tr>\n",
       "    <tr>\n",
       "      <th>std</th>\n",
       "      <td>4364.91237</td>\n",
       "      <td>417.678187</td>\n",
       "      <td>110.085801</td>\n",
       "      <td>8.453927</td>\n",
       "      <td>210.075296</td>\n",
       "      <td>61.239406</td>\n",
       "      <td>1325.066358</td>\n",
       "      <td>30.561287</td>\n",
       "      <td>22.801966</td>\n",
       "      <td>45.895189</td>\n",
       "      <td>...</td>\n",
       "      <td>0.213667</td>\n",
       "      <td>0.146550</td>\n",
       "      <td>0.208699</td>\n",
       "      <td>0.197696</td>\n",
       "      <td>0.081859</td>\n",
       "      <td>0.047368</td>\n",
       "      <td>0.214086</td>\n",
       "      <td>0.203880</td>\n",
       "      <td>0.171574</td>\n",
       "      <td>2.000066</td>\n",
       "    </tr>\n",
       "    <tr>\n",
       "      <th>min</th>\n",
       "      <td>1.00000</td>\n",
       "      <td>1863.000000</td>\n",
       "      <td>0.000000</td>\n",
       "      <td>0.000000</td>\n",
       "      <td>0.000000</td>\n",
       "      <td>-146.000000</td>\n",
       "      <td>0.000000</td>\n",
       "      <td>0.000000</td>\n",
       "      <td>99.000000</td>\n",
       "      <td>0.000000</td>\n",
       "      <td>...</td>\n",
       "      <td>0.000000</td>\n",
       "      <td>0.000000</td>\n",
       "      <td>0.000000</td>\n",
       "      <td>0.000000</td>\n",
       "      <td>0.000000</td>\n",
       "      <td>0.000000</td>\n",
       "      <td>0.000000</td>\n",
       "      <td>0.000000</td>\n",
       "      <td>0.000000</td>\n",
       "      <td>1.000000</td>\n",
       "    </tr>\n",
       "    <tr>\n",
       "      <th>25%</th>\n",
       "      <td>3780.75000</td>\n",
       "      <td>2376.000000</td>\n",
       "      <td>65.000000</td>\n",
       "      <td>10.000000</td>\n",
       "      <td>67.000000</td>\n",
       "      <td>5.000000</td>\n",
       "      <td>764.000000</td>\n",
       "      <td>196.000000</td>\n",
       "      <td>207.000000</td>\n",
       "      <td>106.000000</td>\n",
       "      <td>...</td>\n",
       "      <td>0.000000</td>\n",
       "      <td>0.000000</td>\n",
       "      <td>0.000000</td>\n",
       "      <td>0.000000</td>\n",
       "      <td>0.000000</td>\n",
       "      <td>0.000000</td>\n",
       "      <td>0.000000</td>\n",
       "      <td>0.000000</td>\n",
       "      <td>0.000000</td>\n",
       "      <td>2.000000</td>\n",
       "    </tr>\n",
       "    <tr>\n",
       "      <th>50%</th>\n",
       "      <td>7560.50000</td>\n",
       "      <td>2752.000000</td>\n",
       "      <td>126.000000</td>\n",
       "      <td>15.000000</td>\n",
       "      <td>180.000000</td>\n",
       "      <td>32.000000</td>\n",
       "      <td>1316.000000</td>\n",
       "      <td>220.000000</td>\n",
       "      <td>223.000000</td>\n",
       "      <td>138.000000</td>\n",
       "      <td>...</td>\n",
       "      <td>0.000000</td>\n",
       "      <td>0.000000</td>\n",
       "      <td>0.000000</td>\n",
       "      <td>0.000000</td>\n",
       "      <td>0.000000</td>\n",
       "      <td>0.000000</td>\n",
       "      <td>0.000000</td>\n",
       "      <td>0.000000</td>\n",
       "      <td>0.000000</td>\n",
       "      <td>4.000000</td>\n",
       "    </tr>\n",
       "    <tr>\n",
       "      <th>75%</th>\n",
       "      <td>11340.25000</td>\n",
       "      <td>3104.000000</td>\n",
       "      <td>261.000000</td>\n",
       "      <td>22.000000</td>\n",
       "      <td>330.000000</td>\n",
       "      <td>79.000000</td>\n",
       "      <td>2270.000000</td>\n",
       "      <td>235.000000</td>\n",
       "      <td>235.000000</td>\n",
       "      <td>167.000000</td>\n",
       "      <td>...</td>\n",
       "      <td>0.000000</td>\n",
       "      <td>0.000000</td>\n",
       "      <td>0.000000</td>\n",
       "      <td>0.000000</td>\n",
       "      <td>0.000000</td>\n",
       "      <td>0.000000</td>\n",
       "      <td>0.000000</td>\n",
       "      <td>0.000000</td>\n",
       "      <td>0.000000</td>\n",
       "      <td>6.000000</td>\n",
       "    </tr>\n",
       "    <tr>\n",
       "      <th>max</th>\n",
       "      <td>15120.00000</td>\n",
       "      <td>3849.000000</td>\n",
       "      <td>360.000000</td>\n",
       "      <td>52.000000</td>\n",
       "      <td>1343.000000</td>\n",
       "      <td>554.000000</td>\n",
       "      <td>6890.000000</td>\n",
       "      <td>254.000000</td>\n",
       "      <td>254.000000</td>\n",
       "      <td>248.000000</td>\n",
       "      <td>...</td>\n",
       "      <td>1.000000</td>\n",
       "      <td>1.000000</td>\n",
       "      <td>1.000000</td>\n",
       "      <td>1.000000</td>\n",
       "      <td>1.000000</td>\n",
       "      <td>1.000000</td>\n",
       "      <td>1.000000</td>\n",
       "      <td>1.000000</td>\n",
       "      <td>1.000000</td>\n",
       "      <td>7.000000</td>\n",
       "    </tr>\n",
       "  </tbody>\n",
       "</table>\n",
       "<p>8 rows × 47 columns</p>\n",
       "</div>"
      ],
      "text/plain": [
       "                Id     Elevation        Aspect         Slope  \\\n",
       "count  15120.00000  15120.000000  15120.000000  15120.000000   \n",
       "mean    7560.50000   2749.322553    156.676653     16.501587   \n",
       "std     4364.91237    417.678187    110.085801      8.453927   \n",
       "min        1.00000   1863.000000      0.000000      0.000000   \n",
       "25%     3780.75000   2376.000000     65.000000     10.000000   \n",
       "50%     7560.50000   2752.000000    126.000000     15.000000   \n",
       "75%    11340.25000   3104.000000    261.000000     22.000000   \n",
       "max    15120.00000   3849.000000    360.000000     52.000000   \n",
       "\n",
       "       Horizontal_Distance_To_Hydrology  Vertical_Distance_To_Hydrology  \\\n",
       "count                      15120.000000                    15120.000000   \n",
       "mean                         227.195701                       51.076521   \n",
       "std                          210.075296                       61.239406   \n",
       "min                            0.000000                     -146.000000   \n",
       "25%                           67.000000                        5.000000   \n",
       "50%                          180.000000                       32.000000   \n",
       "75%                          330.000000                       79.000000   \n",
       "max                         1343.000000                      554.000000   \n",
       "\n",
       "       Horizontal_Distance_To_Roadways  Hillshade_9am  Hillshade_Noon  \\\n",
       "count                     15120.000000   15120.000000    15120.000000   \n",
       "mean                       1714.023214     212.704299      218.965608   \n",
       "std                        1325.066358      30.561287       22.801966   \n",
       "min                           0.000000       0.000000       99.000000   \n",
       "25%                         764.000000     196.000000      207.000000   \n",
       "50%                        1316.000000     220.000000      223.000000   \n",
       "75%                        2270.000000     235.000000      235.000000   \n",
       "max                        6890.000000     254.000000      254.000000   \n",
       "\n",
       "       Hillshade_3pm      ...        Soil_Type30   Soil_Type31   Soil_Type32  \\\n",
       "count   15120.000000      ...       15120.000000  15120.000000  15120.000000   \n",
       "mean      135.091997      ...           0.047950      0.021958      0.045635   \n",
       "std        45.895189      ...           0.213667      0.146550      0.208699   \n",
       "min         0.000000      ...           0.000000      0.000000      0.000000   \n",
       "25%       106.000000      ...           0.000000      0.000000      0.000000   \n",
       "50%       138.000000      ...           0.000000      0.000000      0.000000   \n",
       "75%       167.000000      ...           0.000000      0.000000      0.000000   \n",
       "max       248.000000      ...           1.000000      1.000000      1.000000   \n",
       "\n",
       "        Soil_Type33   Soil_Type35   Soil_Type37   Soil_Type38   Soil_Type39  \\\n",
       "count  15120.000000  15120.000000  15120.000000  15120.000000  15120.000000   \n",
       "mean       0.040741      0.006746      0.002249      0.048148      0.043452   \n",
       "std        0.197696      0.081859      0.047368      0.214086      0.203880   \n",
       "min        0.000000      0.000000      0.000000      0.000000      0.000000   \n",
       "25%        0.000000      0.000000      0.000000      0.000000      0.000000   \n",
       "50%        0.000000      0.000000      0.000000      0.000000      0.000000   \n",
       "75%        0.000000      0.000000      0.000000      0.000000      0.000000   \n",
       "max        1.000000      1.000000      1.000000      1.000000      1.000000   \n",
       "\n",
       "        Soil_Type40    Cover_Type  \n",
       "count  15120.000000  15120.000000  \n",
       "mean       0.030357      4.000000  \n",
       "std        0.171574      2.000066  \n",
       "min        0.000000      1.000000  \n",
       "25%        0.000000      2.000000  \n",
       "50%        0.000000      4.000000  \n",
       "75%        0.000000      6.000000  \n",
       "max        1.000000      7.000000  \n",
       "\n",
       "[8 rows x 47 columns]"
      ]
     },
     "execution_count": 6,
     "metadata": {},
     "output_type": "execute_result"
    }
   ],
   "source": [
    "train.describe()"
   ]
  },
  {
   "cell_type": "code",
   "execution_count": 15,
   "metadata": {
    "collapsed": false
   },
   "outputs": [
    {
     "name": "stdout",
     "output_type": "stream",
     "text": [
      "1665\n"
     ]
    }
   ],
   "source": [
    "c =train.Elevation.unique()\n",
    "print c.size\n"
   ]
  },
  {
   "cell_type": "code",
   "execution_count": 17,
   "metadata": {
    "collapsed": false
   },
   "outputs": [
    {
     "data": {
      "text/plain": [
       " 0      1890\n",
       " 5       217\n",
       " 3       206\n",
       " 4       200\n",
       " 8       198\n",
       " 7       182\n",
       " 10      176\n",
       " 9       166\n",
       " 2       165\n",
       " 6       162\n",
       " 11      159\n",
       " 12      159\n",
       " 13      158\n",
       " 22      140\n",
       " 14      140\n",
       " 1       139\n",
       " 20      135\n",
       " 23      133\n",
       " 16      132\n",
       " 17      126\n",
       " 19      126\n",
       " 21      125\n",
       "-1       123\n",
       " 25      122\n",
       " 18      121\n",
       " 15      120\n",
       "-2       120\n",
       " 37      114\n",
       " 29      114\n",
       " 26      114\n",
       "        ... \n",
       "-95        1\n",
       "-103       1\n",
       " 249       1\n",
       " 289       1\n",
       " 305       1\n",
       " 321       1\n",
       " 345       1\n",
       " 369       1\n",
       " 393       1\n",
       " 401       1\n",
       "-54        1\n",
       "-110       1\n",
       "-134       1\n",
       " 258       1\n",
       " 266       1\n",
       " 274       1\n",
       " 282       1\n",
       " 330       1\n",
       " 338       1\n",
       " 346       1\n",
       " 554       1\n",
       "-61        1\n",
       "-69        1\n",
       "-85        1\n",
       " 291       1\n",
       " 299       1\n",
       " 315       1\n",
       " 387       1\n",
       " 327       1\n",
       " 395       1\n",
       "Name: Vertical_Distance_To_Hydrology, dtype: int64"
      ]
     },
     "execution_count": 17,
     "metadata": {},
     "output_type": "execute_result"
    }
   ],
   "source": [
    "train.Vertical_Distance_To_Hydrology.value_counts()"
   ]
  },
  {
   "cell_type": "code",
   "execution_count": 18,
   "metadata": {
    "collapsed": false
   },
   "outputs": [
    {
     "name": "stdout",
     "output_type": "stream",
     "text": [
      "423\n"
     ]
    }
   ],
   "source": [
    "d=train.Vertical_Distance_To_Hydrology.unique()\n",
    "print d.size\n"
   ]
  },
  {
   "cell_type": "code",
   "execution_count": 83,
   "metadata": {
    "collapsed": true
   },
   "outputs": [],
   "source": [
    "def elevation_tr(row):\n",
    "    if row['Elevation'] >= 1800 and row['Elevation'] < 1900:\n",
    "        return '1800s'\n",
    "    elif row['Elevation'] >= 1900 and row['Elevation'] < 2000:\n",
    "        return '1900s'\n",
    "    elif row['Elevation'] >= 2000 and row['Elevation'] < 2100:\n",
    "        return '2000s'\n",
    "    elif row['Elevation'] >= 2100 and row['Elevation'] < 2200:\n",
    "        return '2100s'\n",
    "    elif row['Elevation'] >= 2200 and row['Elevation'] < 2300:\n",
    "        return '2200s'\n",
    "    elif row['Elevation'] >= 2300 and row['Elevation'] < 2400:\n",
    "        return '2300s'\n",
    "    elif row['Elevation'] >= 2400 and row['Elevation'] < 2500:\n",
    "        return '2400s'\n",
    "    elif row['Elevation'] >= 2500 and row['Elevation'] < 2600:\n",
    "        return '2500s'\n",
    "    elif row['Elevation'] >= 2600 and row['Elevation'] < 2700:\n",
    "        return '2600s'\n",
    "    elif row['Elevation'] >= 2700 and row['Elevation'] < 2800:\n",
    "        return '2700s'\n",
    "    elif row['Elevation'] >= 2800 and row['Elevation'] < 2900:\n",
    "        return '2800s'\n",
    "    elif row['Elevation'] >= 2900 and row['Elevation'] < 3000:\n",
    "        return '2900s'\n",
    "    elif row['Elevation'] >= 3000 and row['Elevation'] < 3100:\n",
    "        return '3000s'\n",
    "    elif row['Elevation'] >= 3100 and row['Elevation'] < 3200:\n",
    "        return '3100s'\n",
    "    elif row['Elevation'] >= 3200 and row['Elevation'] < 3300:\n",
    "        return '3200s'\n",
    "    elif row['Elevation'] >= 3300 and row['Elevation'] < 3400:\n",
    "        return '3300s'\n",
    "    elif row['Elevation'] >= 3400 and row['Elevation'] < 3500:\n",
    "        return '3400s'\n",
    "    elif row['Elevation'] >= 3500 and row['Elevation'] < 3600:\n",
    "        return '3500s'\n",
    "    elif row['Elevation'] >= 3600 and row['Elevation'] < 3700:\n",
    "        return '3600s'\n",
    "    elif row['Elevation'] >= 3700 and row['Elevation'] < 3800:\n",
    "        return '3700s'\n",
    "    elif row['Elevation'] >= 3800 and row['Elevation'] < 3900:\n",
    "        return '3800s'\n",
    "    \n",
    "    else:\n",
    "        return 'unknown'\n",
    "    \n",
    "train['Elevation'] = train.apply(lambda row: elevation_tr(row), axis=1)\n",
    "#test['Elevation'] = test.apply(lambda row: elevation_tr(row), axis=1)"
   ]
  },
  {
   "cell_type": "code",
   "execution_count": 79,
   "metadata": {
    "collapsed": false
   },
   "outputs": [
    {
     "name": "stdout",
     "output_type": "stream",
     "text": [
      "<class 'pandas.core.frame.DataFrame'>\n",
      "RangeIndex: 15120 entries, 0 to 15119\n",
      "Data columns (total 55 columns):\n",
      "Elevation                             15120 non-null object\n",
      "Aspect                                15120 non-null int64\n",
      "Slope                                 15120 non-null int64\n",
      "Horizontal_Distance_To_Hydrology      15120 non-null int64\n",
      "Vertical_Distance_To_Hydrology        15120 non-null int64\n",
      "Horizontal_Distance_To_Roadways       15120 non-null int64\n",
      "Hillshade_9am                         15120 non-null int64\n",
      "Hillshade_Noon                        15120 non-null int64\n",
      "Hillshade_3pm                         15120 non-null int64\n",
      "Horizontal_Distance_To_Fire_Points    15120 non-null int64\n",
      "Wilderness_Area1                      15120 non-null int64\n",
      "Wilderness_Area2                      15120 non-null int64\n",
      "Wilderness_Area3                      15120 non-null int64\n",
      "Wilderness_Area4                      15120 non-null int64\n",
      "Soil_Type1                            15120 non-null int64\n",
      "Soil_Type2                            15120 non-null int64\n",
      "Soil_Type3                            15120 non-null int64\n",
      "Soil_Type4                            15120 non-null int64\n",
      "Soil_Type5                            15120 non-null int64\n",
      "Soil_Type6                            15120 non-null int64\n",
      "Soil_Type7                            15120 non-null int64\n",
      "Soil_Type8                            15120 non-null int64\n",
      "Soil_Type9                            15120 non-null int64\n",
      "Soil_Type10                           15120 non-null int64\n",
      "Soil_Type11                           15120 non-null int64\n",
      "Soil_Type12                           15120 non-null int64\n",
      "Soil_Type13                           15120 non-null int64\n",
      "Soil_Type14                           15120 non-null int64\n",
      "Soil_Type15                           15120 non-null int64\n",
      "Soil_Type16                           15120 non-null int64\n",
      "Soil_Type17                           15120 non-null int64\n",
      "Soil_Type18                           15120 non-null int64\n",
      "Soil_Type19                           15120 non-null int64\n",
      "Soil_Type20                           15120 non-null int64\n",
      "Soil_Type21                           15120 non-null int64\n",
      "Soil_Type22                           15120 non-null int64\n",
      "Soil_Type23                           15120 non-null int64\n",
      "Soil_Type24                           15120 non-null int64\n",
      "Soil_Type25                           15120 non-null int64\n",
      "Soil_Type26                           15120 non-null int64\n",
      "Soil_Type27                           15120 non-null int64\n",
      "Soil_Type28                           15120 non-null int64\n",
      "Soil_Type29                           15120 non-null int64\n",
      "Soil_Type30                           15120 non-null int64\n",
      "Soil_Type31                           15120 non-null int64\n",
      "Soil_Type32                           15120 non-null int64\n",
      "Soil_Type33                           15120 non-null int64\n",
      "Soil_Type34                           15120 non-null int64\n",
      "Soil_Type35                           15120 non-null int64\n",
      "Soil_Type36                           15120 non-null int64\n",
      "Soil_Type37                           15120 non-null int64\n",
      "Soil_Type38                           15120 non-null int64\n",
      "Soil_Type39                           15120 non-null int64\n",
      "Soil_Type40                           15120 non-null int64\n",
      "Cover_Type                            15120 non-null int64\n",
      "dtypes: int64(54), object(1)\n",
      "memory usage: 6.3+ MB\n"
     ]
    }
   ],
   "source": [
    "train.info()"
   ]
  },
  {
   "cell_type": "code",
   "execution_count": 37,
   "metadata": {
    "collapsed": false
   },
   "outputs": [
    {
     "name": "stdout",
     "output_type": "stream",
     "text": [
      "0.719907407407\n"
     ]
    }
   ],
   "source": [
    "from sklearn.ensemble import GradientBoostingClassifier\n",
    "clf = GradientBoostingClassifier(n_estimators=250,learning_rate=1.0).fit(train1,train2)\n",
    "predicted_classification = clf.predict(test1)\n",
    "print(accuracy_score(test2, predicted_classification))"
   ]
  },
  {
   "cell_type": "code",
   "execution_count": 40,
   "metadata": {
    "collapsed": false
   },
   "outputs": [
    {
     "name": "stdout",
     "output_type": "stream",
     "text": [
      "400\n"
     ]
    }
   ],
   "source": [
    "c =train.Horizontal_Distance_To_Hydrology.unique()\n",
    "print c.size\n"
   ]
  },
  {
   "cell_type": "code",
   "execution_count": 84,
   "metadata": {
    "collapsed": true
   },
   "outputs": [],
   "source": [
    "def horizontal_tr(row):\n",
    "    if row['Horizontal_Distance_To_Hydrology'] >= 0 and row['Horizontal_Distance_To_Hydrology'] < 100:\n",
    "        return '0s'\n",
    "    elif row['Horizontal_Distance_To_Hydrology'] >= 100 and row['Horizontal_Distance_To_Hydrology'] < 200:\n",
    "        return '100s'\n",
    "    elif row['Horizontal_Distance_To_Hydrology'] >= 200 and row['Horizontal_Distance_To_Hydrology'] < 300:\n",
    "        return '200s'\n",
    "    elif row['Horizontal_Distance_To_Hydrology'] >= 300 and row['Horizontal_Distance_To_Hydrology'] < 400:\n",
    "        return '300s'\n",
    "    elif row['Horizontal_Distance_To_Hydrology'] >= 400 and row['Horizontal_Distance_To_Hydrology'] < 500:\n",
    "        return '400s'\n",
    "    elif row['Horizontal_Distance_To_Hydrology'] >= 500 and row['Horizontal_Distance_To_Hydrology'] < 600:\n",
    "        return '500s'\n",
    "    elif row['Horizontal_Distance_To_Hydrology'] >= 600 and row['Horizontal_Distance_To_Hydrology'] < 700:\n",
    "        return '600s'\n",
    "    elif row['Horizontal_Distance_To_Hydrology'] >= 700 and row['Horizontal_Distance_To_Hydrology'] < 800:\n",
    "        return '700s'\n",
    "    elif row['Horizontal_Distance_To_Hydrology'] >= 800 and row['Horizontal_Distance_To_Hydrology'] < 900:\n",
    "        return '800s'\n",
    "    elif row['Horizontal_Distance_To_Hydrology'] >= 900 and row['Horizontal_Distance_To_Hydrology'] < 1000:\n",
    "        return '900s'\n",
    "    elif row['Horizontal_Distance_To_Hydrology'] >= 1000 and row['Horizontal_Distance_To_Hydrology'] < 1100:\n",
    "        return '1000s'\n",
    "    elif row['Horizontal_Distance_To_Hydrology'] >= 1100 and row['Horizontal_Distance_To_Hydrology'] < 1200:\n",
    "        return '1100s'\n",
    "    elif row['Horizontal_Distance_To_Hydrology'] >= 100 and row['Horizontal_Distance_To_Hydrology'] < 200:\n",
    "        return '1200s'\n",
    "    elif row['Horizontal_Distance_To_Hydrology'] >= 100 and row['Horizontal_Distance_To_Hydrology'] < 200:\n",
    "        return '1300s'\n",
    "    elif row['Horizontal_Distance_To_Hydrology'] >= 100 and row['Horizontal_Distance_To_Hydrology'] < 200:\n",
    "        return '1400s'\n",
    "    \n",
    "    else:\n",
    "        return 'unknown'\n",
    "    \n",
    "train['Horizontal_Distance_To_Hydrology'] = train.apply(lambda row: horizontal_tr(row), axis=1)\n",
    "#test['Horizontal_Distance_To_Hydrology'] = test.apply(lambda row: horizontal_tr(row), axis=1)"
   ]
  },
  {
   "cell_type": "code",
   "execution_count": 42,
   "metadata": {
    "collapsed": false
   },
   "outputs": [
    {
     "data": {
      "text/plain": [
       "150     88\n",
       "120     56\n",
       "390     47\n",
       "618     45\n",
       "1110    43\n",
       "700     41\n",
       "108     38\n",
       "1273    37\n",
       "900     37\n",
       "212     37\n",
       "335     37\n",
       "990     37\n",
       "242     36\n",
       "607     36\n",
       "361     35\n",
       "1082    35\n",
       "228     34\n",
       "750     34\n",
       "277     34\n",
       "450     34\n",
       "1050    34\n",
       "1020    34\n",
       "960     33\n",
       "1167    33\n",
       "1140    33\n",
       "360     32\n",
       "180     32\n",
       "484     31\n",
       "210     31\n",
       "300     31\n",
       "        ..\n",
       "4440     1\n",
       "2748     1\n",
       "2403     1\n",
       "3546     1\n",
       "3538     1\n",
       "2975     1\n",
       "2427     1\n",
       "3530     1\n",
       "2435     1\n",
       "2443     1\n",
       "3586     1\n",
       "4400     1\n",
       "4751     1\n",
       "3071     1\n",
       "3618     1\n",
       "5204     1\n",
       "5164     1\n",
       "4320     1\n",
       "3610     1\n",
       "4328     1\n",
       "3103     1\n",
       "3594     1\n",
       "5641     1\n",
       "5132     1\n",
       "2307     1\n",
       "4360     1\n",
       "5124     1\n",
       "2323     1\n",
       "4384     1\n",
       "2827     1\n",
       "Name: Horizontal_Distance_To_Roadways, dtype: int64"
      ]
     },
     "execution_count": 42,
     "metadata": {},
     "output_type": "execute_result"
    }
   ],
   "source": [
    "train.Horizontal_Distance_To_Roadways.value_counts()"
   ]
  },
  {
   "cell_type": "code",
   "execution_count": 43,
   "metadata": {
    "collapsed": false
   },
   "outputs": [
    {
     "name": "stdout",
     "output_type": "stream",
     "text": [
      "3250\n"
     ]
    }
   ],
   "source": [
    "c =train.Horizontal_Distance_To_Roadways.unique()\n",
    "print c.size\n"
   ]
  },
  {
   "cell_type": "code",
   "execution_count": 85,
   "metadata": {
    "collapsed": true
   },
   "outputs": [],
   "source": [
    "def roadways_tr(row):\n",
    "    if row['Horizontal_Distance_To_Roadways'] >= 0 and row['Horizontal_Distance_To_Roadways'] < 500:\n",
    "        return '0r'\n",
    "    elif row['Horizontal_Distance_To_Roadways'] >= 500 and row['Horizontal_Distance_To_Roadways'] < 1000:\n",
    "        return '500r'\n",
    "    elif row['Horizontal_Distance_To_Roadways'] >= 1000 and row['Horizontal_Distance_To_Roadways'] < 1500:\n",
    "        return '1000r'\n",
    "    elif row['Horizontal_Distance_To_Roadways'] >= 1500 and row['Horizontal_Distance_To_Roadways'] < 2000:\n",
    "        return '1500r'\n",
    "    elif row['Horizontal_Distance_To_Roadways'] >= 2000 and row['Horizontal_Distance_To_Roadways'] < 2500:\n",
    "        return '2000r'\n",
    "    elif row['Horizontal_Distance_To_Roadways'] >= 2500 and row['Horizontal_Distance_To_Roadways'] < 3000:\n",
    "        return '2500r'\n",
    "    elif row['Horizontal_Distance_To_Roadways'] >= 3000 and row['Horizontal_Distance_To_Roadways'] < 3500:\n",
    "        return '3000r'\n",
    "    elif row['Horizontal_Distance_To_Roadways'] >= 3500 and row['Horizontal_Distance_To_Roadways'] < 4000:\n",
    "        return '3500r'\n",
    "    elif row['Horizontal_Distance_To_Roadways'] >= 4000 and row['Horizontal_Distance_To_Roadways'] < 4500:\n",
    "        return '4000r'\n",
    "    elif row['Horizontal_Distance_To_Roadways'] >= 4500 and row['Horizontal_Distance_To_Roadways'] < 5000:\n",
    "        return '4500r'\n",
    "    elif row['Horizontal_Distance_To_Roadways'] >= 5000 and row['Horizontal_Distance_To_Roadways'] < 5500:\n",
    "        return '5000r'\n",
    "    elif row['Horizontal_Distance_To_Roadways'] >= 5500 and row['Horizontal_Distance_To_Roadways'] < 6000:\n",
    "        return '5500r'\n",
    "    elif row['Horizontal_Distance_To_Roadways'] >= 6000 and row['Horizontal_Distance_To_Roadways'] < 6500:\n",
    "        return '6000r'\n",
    "    elif row['Horizontal_Distance_To_Roadways'] >= 6500 and row['Horizontal_Distance_To_Roadways'] < 7000:\n",
    "        return '6500r'\n",
    "    else:\n",
    "        return 'unknown'\n",
    "    \n",
    "train['Horizontal_Distance_To_Roadways'] = train.apply(lambda row: roadways_tr(row), axis=1)\n",
    "#test['Horizontal_Distance_To_Roadways'] = test.apply(lambda row: roadways_tr(row), axis=1)"
   ]
  },
  {
   "cell_type": "code",
   "execution_count": 47,
   "metadata": {
    "collapsed": false
   },
   "outputs": [
    {
     "data": {
      "text/plain": [
       "11    740\n",
       "10    739\n",
       "13    717\n",
       "14    699\n",
       "12    677\n",
       "9     664\n",
       "15    664\n",
       "16    640\n",
       "17    598\n",
       "8     574\n",
       "7     573\n",
       "18    558\n",
       "20    552\n",
       "19    519\n",
       "21    465\n",
       "6     465\n",
       "22    458\n",
       "23    450\n",
       "5     423\n",
       "24    394\n",
       "25    359\n",
       "26    329\n",
       "28    313\n",
       "4     305\n",
       "27    297\n",
       "29    258\n",
       "31    218\n",
       "30    216\n",
       "3     210\n",
       "32    187\n",
       "33    143\n",
       "2     134\n",
       "34    131\n",
       "35    101\n",
       "1      78\n",
       "36     68\n",
       "37     58\n",
       "38     36\n",
       "39     32\n",
       "41     18\n",
       "40     16\n",
       "46     15\n",
       "0       5\n",
       "49      5\n",
       "44      5\n",
       "42      3\n",
       "45      3\n",
       "47      3\n",
       "43      2\n",
       "48      1\n",
       "50      1\n",
       "52      1\n",
       "Name: Slope, dtype: int64"
      ]
     },
     "execution_count": 47,
     "metadata": {},
     "output_type": "execute_result"
    }
   ],
   "source": [
    "train.Slope.value_counts()"
   ]
  },
  {
   "cell_type": "raw",
   "metadata": {},
   "source": []
  },
  {
   "cell_type": "code",
   "execution_count": 48,
   "metadata": {
    "collapsed": false
   },
   "outputs": [
    {
     "data": {
      "text/plain": [
       " 0      1890\n",
       " 5       217\n",
       " 3       206\n",
       " 4       200\n",
       " 8       198\n",
       " 7       182\n",
       " 10      176\n",
       " 9       166\n",
       " 2       165\n",
       " 6       162\n",
       " 11      159\n",
       " 12      159\n",
       " 13      158\n",
       " 22      140\n",
       " 14      140\n",
       " 1       139\n",
       " 20      135\n",
       " 23      133\n",
       " 16      132\n",
       " 17      126\n",
       " 19      126\n",
       " 21      125\n",
       "-1       123\n",
       " 25      122\n",
       " 18      121\n",
       " 15      120\n",
       "-2       120\n",
       " 37      114\n",
       " 29      114\n",
       " 26      114\n",
       "        ... \n",
       "-95        1\n",
       "-103       1\n",
       " 249       1\n",
       " 289       1\n",
       " 305       1\n",
       " 321       1\n",
       " 345       1\n",
       " 369       1\n",
       " 393       1\n",
       " 401       1\n",
       "-54        1\n",
       "-110       1\n",
       "-134       1\n",
       " 258       1\n",
       " 266       1\n",
       " 274       1\n",
       " 282       1\n",
       " 330       1\n",
       " 338       1\n",
       " 346       1\n",
       " 554       1\n",
       "-61        1\n",
       "-69        1\n",
       "-85        1\n",
       " 291       1\n",
       " 299       1\n",
       " 315       1\n",
       " 387       1\n",
       " 327       1\n",
       " 395       1\n",
       "Name: Vertical_Distance_To_Hydrology, dtype: int64"
      ]
     },
     "execution_count": 48,
     "metadata": {},
     "output_type": "execute_result"
    }
   ],
   "source": [
    "train.Vertical_Distance_To_Hydrology.value_counts()"
   ]
  },
  {
   "cell_type": "code",
   "execution_count": 49,
   "metadata": {
    "collapsed": false
   },
   "outputs": [
    {
     "name": "stdout",
     "output_type": "stream",
     "text": [
      "423\n"
     ]
    }
   ],
   "source": [
    "c =train.Vertical_Distance_To_Hydrology.unique()\n",
    "print c.size"
   ]
  },
  {
   "cell_type": "code",
   "execution_count": 86,
   "metadata": {
    "collapsed": true
   },
   "outputs": [],
   "source": [
    "def vert_tr(row):\n",
    "    if row['Vertical_Distance_To_Hydrology'] >= -150 and row['Vertical_Distance_To_Hydrology'] < -100:\n",
    "        return 'm150'\n",
    "    elif row['Vertical_Distance_To_Hydrology'] >= -100 and row['Vertical_Distance_To_Hydrology'] < -50:\n",
    "        return 'm100'\n",
    "    elif row['Vertical_Distance_To_Hydrology'] >= -50 and row['Vertical_Distance_To_Hydrology'] < 0:\n",
    "        return 'm50'\n",
    "    elif row['Vertical_Distance_To_Hydrology'] >= 0 and row['Vertical_Distance_To_Hydrology'] < 50:\n",
    "        return 'm550'\n",
    "    elif row['Vertical_Distance_To_Hydrology'] >= 50 and row['Vertical_Distance_To_Hydrology'] < 100:\n",
    "        return 'm5100'\n",
    "    elif row['Vertical_Distance_To_Hydrology'] >= 100 and row['Vertical_Distance_To_Hydrology'] < 200:\n",
    "        return 'm200'\n",
    "    elif row['Vertical_Distance_To_Hydrology'] >= 200 and row['Vertical_Distance_To_Hydrology'] < 300:\n",
    "        return 'm300'\n",
    "    elif row['Vertical_Distance_To_Hydrology'] >= 300 and row['Vertical_Distance_To_Hydrology'] < 400:\n",
    "        return 'm400'\n",
    "    elif row['Vertical_Distance_To_Hydrology'] >= 400 and row['Vertical_Distance_To_Hydrology'] < 500:\n",
    "        return 'm500'\n",
    "    elif row['Vertical_Distance_To_Hydrology'] >= 500 and row['Vertical_Distance_To_Hydrology'] < 600:\n",
    "        return 'm600'\n",
    "\n",
    "    else:\n",
    "        return 'unknown'\n",
    "    \n",
    "train['Vertical_Distance_To_Hydrology'] = train.apply(lambda row: vert_tr(row), axis=1)\n",
    "#test['Vertical_Distance_To_Hydrology'] = test.apply(lambda row: vert_tr(row), axis=1)"
   ]
  },
  {
   "cell_type": "code",
   "execution_count": 57,
   "metadata": {
    "collapsed": true
   },
   "outputs": [],
   "source": [
    "columnsToEncode = list(train.select_dtypes(include=['category','object']))\n",
    "le = preprocessing.LabelEncoder()\n",
    "train[\"Elevation\"]=train[\"Elevation\"].astype(str)\n",
    "train[\"Horizontal_Distance_To_Hydrology\"]=train[\"Horizontal_Distance_To_Hydrology\"].astype(str)\n",
    "train[\"Horizontal_Distance_To_Roadways\"]=train[\"Horizontal_Distance_To_Roadways\"].astype(str)\n",
    "train[\"Vertical_Distance_To_Hydrology\"]=train[\"Vertical_Distance_To_Hydrology\"].astype(str)\n",
    "for feature in columnsToEncode:\n",
    "    try:\n",
    "         train[feature] = le.fit_transform(train[feature])\n",
    "    except:\n",
    "         print('Error encoding '+feature)"
   ]
  },
  {
   "cell_type": "code",
   "execution_count": 58,
   "metadata": {
    "collapsed": false
   },
   "outputs": [
    {
     "name": "stdout",
     "output_type": "stream",
     "text": [
      "0.830357142857\n",
      "0.830357142857\n"
     ]
    }
   ],
   "source": [
    "data=train.ix[ :, train.columns != 'Cover_Type']\n",
    "target1=train['Cover_Type']\n",
    "train1,test1,train2,test2=train_test_split(data,target1,test_size=0.2,random_state=0)\n",
    "forest = RandomForestClassifier(n_estimators = 150)\n",
    "# Fit the training data to the Survived labels and create the decision trees\n",
    "forest = forest.fit(train1,train2)\n",
    "\n",
    "# Take the same decision trees and run it on the test data\n",
    "predicted_classification = forest.predict(test1)\n",
    "print(forest.score(test1,test2))\n",
    "\n",
    "print(accuracy_score(test2, predicted_classification))"
   ]
  },
  {
   "cell_type": "code",
   "execution_count": 90,
   "metadata": {
    "collapsed": false
   },
   "outputs": [],
   "source": [
    "train['Soil']=0\n",
    "for i in range(1,41):\n",
    "       train['Soil']=train['Soil']+i*train['Soil_Type'+str(i)]\n",
    "#test['Soil']=0\n",
    "#for i in range(1,41):\n",
    " #      test['Soil']=test['Soil']+i*test['Soil_Type'+str(i)]"
   ]
  },
  {
   "cell_type": "code",
   "execution_count": 4,
   "metadata": {
    "collapsed": false,
    "scrolled": true
   },
   "outputs": [
    {
     "data": {
      "text/plain": [
       "10    2142\n",
       "29    1291\n",
       "3      962\n",
       "4      843\n",
       "23     757\n",
       "38     728\n",
       "30     725\n",
       "32     690\n",
       "39     657\n",
       "6      650\n",
       "2      623\n",
       "33     616\n",
       "17     612\n",
       "13     476\n",
       "40     459\n",
       "11     406\n",
       "1      355\n",
       "22     345\n",
       "31     332\n",
       "24     257\n",
       "12     227\n",
       "14     169\n",
       "5      165\n",
       "20     139\n",
       "16     114\n",
       "35     102\n",
       "18      60\n",
       "26      54\n",
       "19      46\n",
       "37      34\n",
       "34      22\n",
       "21      16\n",
       "27      15\n",
       "9       10\n",
       "36      10\n",
       "28       9\n",
       "25       1\n",
       "8        1\n",
       "Name: Soil, dtype: int64"
      ]
     },
     "execution_count": 4,
     "metadata": {},
     "output_type": "execute_result"
    }
   ],
   "source": [
    "train.Soil.value_counts()"
   ]
  },
  {
   "cell_type": "code",
   "execution_count": 89,
   "metadata": {
    "collapsed": false
   },
   "outputs": [],
   "source": [
    "train['Wilderness']=0\n",
    "for i in range(1,4):\n",
    "       train['Wilderness']=train['Wilderness']+i*train['Wilderness_Area'+str(i)]\n",
    "#test['Wilderness']=0\n",
    "#for i in range(1,4):\n",
    "#       test['Wilderness']=test['Wilderness']+i*test['Wilderness_Area'+str(i)]"
   ]
  },
  {
   "cell_type": "code",
   "execution_count": 105,
   "metadata": {
    "collapsed": false
   },
   "outputs": [
    {
     "name": "stdout",
     "output_type": "stream",
     "text": [
      "<class 'pandas.core.frame.DataFrame'>\n",
      "RangeIndex: 15120 entries, 0 to 15119\n",
      "Data columns (total 13 columns):\n",
      "Elevation                             15120 non-null object\n",
      "Aspect                                15120 non-null int64\n",
      "Slope                                 15120 non-null int64\n",
      "Horizontal_Distance_To_Hydrology      15120 non-null object\n",
      "Vertical_Distance_To_Hydrology        15120 non-null object\n",
      "Horizontal_Distance_To_Roadways       15120 non-null object\n",
      "Hillshade_9am                         15120 non-null int64\n",
      "Hillshade_Noon                        15120 non-null int64\n",
      "Hillshade_3pm                         15120 non-null int64\n",
      "Horizontal_Distance_To_Fire_Points    15120 non-null int64\n",
      "Cover_Type                            15120 non-null int64\n",
      "Wilderness                            15120 non-null int64\n",
      "Soil                                  15120 non-null int64\n",
      "dtypes: int64(9), object(4)\n",
      "memory usage: 1.5+ MB\n"
     ]
    }
   ],
   "source": [
    "train.info()"
   ]
  },
  {
   "cell_type": "code",
   "execution_count": 96,
   "metadata": {
    "collapsed": false
   },
   "outputs": [
    {
     "ename": "ValueError",
     "evalue": "labels ['Soil_Type1'] not contained in axis",
     "output_type": "error",
     "traceback": [
      "\u001b[1;31m---------------------------------------------------------------------------\u001b[0m",
      "\u001b[1;31mValueError\u001b[0m                                Traceback (most recent call last)",
      "\u001b[1;32m<ipython-input-96-97f9ac63872e>\u001b[0m in \u001b[0;36m<module>\u001b[1;34m()\u001b[0m\n\u001b[1;32m----> 1\u001b[1;33m \u001b[0mtrain\u001b[0m \u001b[1;33m=\u001b[0m \u001b[0mtrain\u001b[0m\u001b[1;33m.\u001b[0m\u001b[0mdrop\u001b[0m\u001b[1;33m(\u001b[0m\u001b[1;34m'Soil_Type1'\u001b[0m\u001b[1;33m,\u001b[0m \u001b[0maxis\u001b[0m\u001b[1;33m=\u001b[0m\u001b[1;36m1\u001b[0m\u001b[1;33m)\u001b[0m\u001b[1;33m\u001b[0m\u001b[0m\n\u001b[0m\u001b[0;32m      2\u001b[0m \u001b[0mtrain\u001b[0m \u001b[1;33m=\u001b[0m \u001b[0mtrain\u001b[0m\u001b[1;33m.\u001b[0m\u001b[0mdrop\u001b[0m\u001b[1;33m(\u001b[0m\u001b[1;34m'Soil_Type2'\u001b[0m\u001b[1;33m,\u001b[0m \u001b[0maxis\u001b[0m\u001b[1;33m=\u001b[0m\u001b[1;36m1\u001b[0m\u001b[1;33m)\u001b[0m\u001b[1;33m\u001b[0m\u001b[0m\n\u001b[0;32m      3\u001b[0m \u001b[0mtrain\u001b[0m \u001b[1;33m=\u001b[0m \u001b[0mtrain\u001b[0m\u001b[1;33m.\u001b[0m\u001b[0mdrop\u001b[0m\u001b[1;33m(\u001b[0m\u001b[1;34m'Soil_Type3'\u001b[0m\u001b[1;33m,\u001b[0m \u001b[0maxis\u001b[0m\u001b[1;33m=\u001b[0m\u001b[1;36m1\u001b[0m\u001b[1;33m)\u001b[0m\u001b[1;33m\u001b[0m\u001b[0m\n\u001b[0;32m      4\u001b[0m \u001b[0mtrain\u001b[0m \u001b[1;33m=\u001b[0m \u001b[0mtrain\u001b[0m\u001b[1;33m.\u001b[0m\u001b[0mdrop\u001b[0m\u001b[1;33m(\u001b[0m\u001b[1;34m'Soil_Type4'\u001b[0m\u001b[1;33m,\u001b[0m \u001b[0maxis\u001b[0m\u001b[1;33m=\u001b[0m\u001b[1;36m1\u001b[0m\u001b[1;33m)\u001b[0m\u001b[1;33m\u001b[0m\u001b[0m\n\u001b[0;32m      5\u001b[0m \u001b[0mtrain\u001b[0m \u001b[1;33m=\u001b[0m \u001b[0mtrain\u001b[0m\u001b[1;33m.\u001b[0m\u001b[0mdrop\u001b[0m\u001b[1;33m(\u001b[0m\u001b[1;34m'Soil_Type5'\u001b[0m\u001b[1;33m,\u001b[0m \u001b[0maxis\u001b[0m\u001b[1;33m=\u001b[0m\u001b[1;36m1\u001b[0m\u001b[1;33m)\u001b[0m\u001b[1;33m\u001b[0m\u001b[0m\n",
      "\u001b[1;32mC:\\Users\\Krishna Teja\\Anaconda2\\lib\\site-packages\\pandas\\core\\generic.pyc\u001b[0m in \u001b[0;36mdrop\u001b[1;34m(self, labels, axis, level, inplace, errors)\u001b[0m\n\u001b[0;32m   1875\u001b[0m                 \u001b[0mnew_axis\u001b[0m \u001b[1;33m=\u001b[0m \u001b[0maxis\u001b[0m\u001b[1;33m.\u001b[0m\u001b[0mdrop\u001b[0m\u001b[1;33m(\u001b[0m\u001b[0mlabels\u001b[0m\u001b[1;33m,\u001b[0m \u001b[0mlevel\u001b[0m\u001b[1;33m=\u001b[0m\u001b[0mlevel\u001b[0m\u001b[1;33m,\u001b[0m \u001b[0merrors\u001b[0m\u001b[1;33m=\u001b[0m\u001b[0merrors\u001b[0m\u001b[1;33m)\u001b[0m\u001b[1;33m\u001b[0m\u001b[0m\n\u001b[0;32m   1876\u001b[0m             \u001b[1;32melse\u001b[0m\u001b[1;33m:\u001b[0m\u001b[1;33m\u001b[0m\u001b[0m\n\u001b[1;32m-> 1877\u001b[1;33m                 \u001b[0mnew_axis\u001b[0m \u001b[1;33m=\u001b[0m \u001b[0maxis\u001b[0m\u001b[1;33m.\u001b[0m\u001b[0mdrop\u001b[0m\u001b[1;33m(\u001b[0m\u001b[0mlabels\u001b[0m\u001b[1;33m,\u001b[0m \u001b[0merrors\u001b[0m\u001b[1;33m=\u001b[0m\u001b[0merrors\u001b[0m\u001b[1;33m)\u001b[0m\u001b[1;33m\u001b[0m\u001b[0m\n\u001b[0m\u001b[0;32m   1878\u001b[0m             \u001b[0mdropped\u001b[0m \u001b[1;33m=\u001b[0m \u001b[0mself\u001b[0m\u001b[1;33m.\u001b[0m\u001b[0mreindex\u001b[0m\u001b[1;33m(\u001b[0m\u001b[1;33m**\u001b[0m\u001b[1;33m{\u001b[0m\u001b[0maxis_name\u001b[0m\u001b[1;33m:\u001b[0m \u001b[0mnew_axis\u001b[0m\u001b[1;33m}\u001b[0m\u001b[1;33m)\u001b[0m\u001b[1;33m\u001b[0m\u001b[0m\n\u001b[0;32m   1879\u001b[0m             \u001b[1;32mtry\u001b[0m\u001b[1;33m:\u001b[0m\u001b[1;33m\u001b[0m\u001b[0m\n",
      "\u001b[1;32mC:\\Users\\Krishna Teja\\Anaconda2\\lib\\site-packages\\pandas\\indexes\\base.pyc\u001b[0m in \u001b[0;36mdrop\u001b[1;34m(self, labels, errors)\u001b[0m\n\u001b[0;32m   3049\u001b[0m             \u001b[1;32mif\u001b[0m \u001b[0merrors\u001b[0m \u001b[1;33m!=\u001b[0m \u001b[1;34m'ignore'\u001b[0m\u001b[1;33m:\u001b[0m\u001b[1;33m\u001b[0m\u001b[0m\n\u001b[0;32m   3050\u001b[0m                 raise ValueError('labels %s not contained in axis' %\n\u001b[1;32m-> 3051\u001b[1;33m                                  labels[mask])\n\u001b[0m\u001b[0;32m   3052\u001b[0m             \u001b[0mindexer\u001b[0m \u001b[1;33m=\u001b[0m \u001b[0mindexer\u001b[0m\u001b[1;33m[\u001b[0m\u001b[1;33m~\u001b[0m\u001b[0mmask\u001b[0m\u001b[1;33m]\u001b[0m\u001b[1;33m\u001b[0m\u001b[0m\n\u001b[0;32m   3053\u001b[0m         \u001b[1;32mreturn\u001b[0m \u001b[0mself\u001b[0m\u001b[1;33m.\u001b[0m\u001b[0mdelete\u001b[0m\u001b[1;33m(\u001b[0m\u001b[0mindexer\u001b[0m\u001b[1;33m)\u001b[0m\u001b[1;33m\u001b[0m\u001b[0m\n",
      "\u001b[1;31mValueError\u001b[0m: labels ['Soil_Type1'] not contained in axis"
     ]
    }
   ],
   "source": [
    "train = train.drop('Soil_Type1', axis=1)\n",
    "train = train.drop('Soil_Type2', axis=1)\n",
    "train = train.drop('Soil_Type3', axis=1)\n",
    "train = train.drop('Soil_Type4', axis=1)\n",
    "train = train.drop('Soil_Type5', axis=1)\n",
    "train = train.drop('Soil_Type6', axis=1)\n",
    "train = train.drop('Soil_Type7', axis=1)\n",
    "train = train.drop('Soil_Type8', axis=1)\n",
    "train = train.drop('Soil_Type9', axis=1)\n",
    "train = train.drop('Soil_Type10', axis=1)\n",
    "train = train.drop('Soil_Type11', axis=1)\n",
    "train = train.drop('Soil_Type12', axis=1)\n",
    "train = train.drop('Soil_Type13', axis=1)\n",
    "train = train.drop('Soil_Type14', axis=1)\n",
    "train = train.drop('Soil_Type15', axis=1)\n",
    "train = train.drop('Soil_Type16', axis=1)\n",
    "train = train.drop('Soil_Type17', axis=1)\n",
    "train = train.drop('Soil_Type18', axis=1)\n",
    "train = train.drop('Soil_Type19', axis=1)\n",
    "train = train.drop('Soil_Type20', axis=1)\n",
    "train = train.drop('Soil_Type21', axis=1)\n",
    "train = train.drop('Soil_Type22', axis=1)\n",
    "train = train.drop('Soil_Type23', axis=1)\n",
    "train = train.drop('Soil_Type24', axis=1)\n",
    "train = train.drop('Soil_Type25', axis=1)\n",
    "train = train.drop('Soil_Type26', axis=1)\n",
    "train = train.drop('Soil_Type27', axis=1)\n",
    "train = train.drop('Soil_Type28', axis=1)\n",
    "train = train.drop('Soil_Type29', axis=1)\n",
    "train = train.drop('Soil_Type30', axis=1)\n",
    "train = train.drop('Soil_Type31', axis=1)\n",
    "train = train.drop('Soil_Type32', axis=1)\n",
    "train = train.drop('Soil_Type33', axis=1)\n",
    "train = train.drop('Soil_Type34', axis=1)\n",
    "train = train.drop('Soil_Type35', axis=1)\n",
    "train = train.drop('Soil_Type36', axis=1)\n",
    "train = train.drop('Soil_Type37', axis=1)\n",
    "train = train.drop('Soil_Type38', axis=1)\n",
    "train = train.drop('Soil_Type39', axis=1)\n",
    "train = train.drop('Soil_Type40', axis=1)\n",
    "train = train.drop('Wilderness_Area1', axis=1)\n",
    "train = train.drop('Wilderness_Area2', axis=1)\n",
    "train = train.drop('Wilderness_Area3', axis=1)\n",
    "train = train.drop('Wilderness_Area4', axis=1)\n"
   ]
  },
  {
   "cell_type": "code",
   "execution_count": null,
   "metadata": {
    "collapsed": false
   },
   "outputs": [],
   "source": []
  },
  {
   "cell_type": "code",
   "execution_count": 97,
   "metadata": {
    "collapsed": true
   },
   "outputs": [],
   "source": [
    "columnsToEncode = list(train.select_dtypes(include=['category','object']))\n",
    "le = preprocessing.LabelEncoder()\n",
    "train[\"Elevation\"]=train[\"Elevation\"].astype(str)\n",
    "train[\"Horizontal_Distance_To_Hydrology\"]=train[\"Horizontal_Distance_To_Hydrology\"].astype(str)\n",
    "train[\"Horizontal_Distance_To_Roadways\"]=train[\"Horizontal_Distance_To_Roadways\"].astype(str)\n",
    "train[\"Vertical_Distance_To_Hydrology\"]=train[\"Vertical_Distance_To_Hydrology\"].astype(str)\n",
    "for feature in columnsToEncode:\n",
    "    try:\n",
    "         train[feature] = le.fit_transform(train[feature])\n",
    "    except:\n",
    "         print('Error encoding '+feature)"
   ]
  },
  {
   "cell_type": "code",
   "execution_count": 104,
   "metadata": {
    "collapsed": false
   },
   "outputs": [
    {
     "name": "stdout",
     "output_type": "stream",
     "text": [
      "0.831018518519\n"
     ]
    }
   ],
   "source": [
    "data=train.ix[ :, train.columns != 'Cover_Type']\n",
    "target1=train['Cover_Type']\n",
    "train1,test1,train2,test2=train_test_split(data,target1,test_size=0.2,random_state=0)\n",
    "forest = RandomForestClassifier(n_estimators = 500)\n",
    "# Fit the training data to the labels and create the decision trees\n",
    "forest = forest.fit(train1,train2)\n",
    "\n",
    "# Take the model and run it on the test data\n",
    "predicted_classification = forest.predict(test1)\n",
    "print(accuracy_score(test2, predicted_classification))"
   ]
  },
  {
   "cell_type": "code",
   "execution_count": 103,
   "metadata": {
    "collapsed": false
   },
   "outputs": [
    {
     "name": "stdout",
     "output_type": "stream",
     "text": [
      "Feature ranking:\n",
      "1. feature 0 (0.229653)\n",
      "2. feature 11 (0.174271)\n",
      "3. feature 9 (0.099832)\n",
      "4. feature 6 (0.072142)\n",
      "5. feature 10 (0.067507)\n",
      "6. feature 1 (0.065882)\n",
      "7. feature 5 (0.060221)\n",
      "8. feature 8 (0.059784)\n",
      "9. feature 7 (0.058309)\n",
      "10. feature 2 (0.046941)\n",
      "11. feature 3 (0.044574)\n",
      "12. feature 4 (0.020883)\n"
     ]
    }
   ],
   "source": [
    "importances = forest.feature_importances_\n",
    "std = np.std([tree.feature_importances_ for tree in forest.estimators_],\n",
    "             axis=0)\n",
    "indices = np.argsort(importances)[::-1]\n",
    "\n",
    "# Print the feature ranking\n",
    "print(\"Feature ranking:\")\n",
    "\n",
    "for f in range(train1.shape[1]):\n",
    "    print(\"%d. feature %d (%f)\" % (f + 1, indices[f], importances[indices[f]]))\n"
   ]
  },
  {
   "cell_type": "code",
   "execution_count": 98,
   "metadata": {
    "collapsed": true
   },
   "outputs": [],
   "source": [
    "train.to_csv('trainBD2.csv')\n",
    "test.to_csv('testBD2.csv')"
   ]
  },
  {
   "cell_type": "code",
   "execution_count": 99,
   "metadata": {
    "collapsed": false
   },
   "outputs": [
    {
     "name": "stdout",
     "output_type": "stream",
     "text": [
      "[[334  64   1   0   8   2  30]\n",
      " [ 77 271  13   0  35  10   5]\n",
      " [  0   0 325  35   2  56   0]\n",
      " [  0   0   9 417   0  12   0]\n",
      " [  1  18   6   0 398   5   0]\n",
      " [  0   4  63  17  10 377   0]\n",
      " [ 23   2   0   0   0   0 394]]\n"
     ]
    }
   ],
   "source": [
    "from sklearn.metrics import confusion_matrix\n",
    "print(confusion_matrix(test2, predicted_classification))"
   ]
  },
  {
   "cell_type": "code",
   "execution_count": 101,
   "metadata": {
    "collapsed": false
   },
   "outputs": [
    {
     "name": "stdout",
     "output_type": "stream",
     "text": [
      "0.622023809524\n"
     ]
    }
   ],
   "source": [
    "from sklearn.naive_bayes import GaussianNB\n",
    "gnb = GaussianNB()\n",
    "y_pred = gnb.fit(train1, train2).predict(test1)\n",
    "print(accuracy_score(test2,y_pred))"
   ]
  },
  {
   "cell_type": "code",
   "execution_count": 106,
   "metadata": {
    "collapsed": false
   },
   "outputs": [
    {
     "name": "stdout",
     "output_type": "stream",
     "text": [
      "<class 'pandas.core.frame.DataFrame'>\n",
      "RangeIndex: 565892 entries, 0 to 565891\n",
      "Data columns (total 57 columns):\n",
      "Id                                    565892 non-null int64\n",
      "Elevation                             565892 non-null object\n",
      "Aspect                                565892 non-null int64\n",
      "Slope                                 565892 non-null int64\n",
      "Horizontal_Distance_To_Hydrology      565892 non-null object\n",
      "Vertical_Distance_To_Hydrology        565892 non-null object\n",
      "Horizontal_Distance_To_Roadways       565892 non-null object\n",
      "Hillshade_9am                         565892 non-null int64\n",
      "Hillshade_Noon                        565892 non-null int64\n",
      "Hillshade_3pm                         565892 non-null int64\n",
      "Horizontal_Distance_To_Fire_Points    565892 non-null int64\n",
      "Wilderness_Area1                      565892 non-null int64\n",
      "Wilderness_Area2                      565892 non-null int64\n",
      "Wilderness_Area3                      565892 non-null int64\n",
      "Wilderness_Area4                      565892 non-null int64\n",
      "Soil_Type1                            565892 non-null int64\n",
      "Soil_Type2                            565892 non-null int64\n",
      "Soil_Type3                            565892 non-null int64\n",
      "Soil_Type4                            565892 non-null int64\n",
      "Soil_Type5                            565892 non-null int64\n",
      "Soil_Type6                            565892 non-null int64\n",
      "Soil_Type7                            565892 non-null int64\n",
      "Soil_Type8                            565892 non-null int64\n",
      "Soil_Type9                            565892 non-null int64\n",
      "Soil_Type10                           565892 non-null int64\n",
      "Soil_Type11                           565892 non-null int64\n",
      "Soil_Type12                           565892 non-null int64\n",
      "Soil_Type13                           565892 non-null int64\n",
      "Soil_Type14                           565892 non-null int64\n",
      "Soil_Type15                           565892 non-null int64\n",
      "Soil_Type16                           565892 non-null int64\n",
      "Soil_Type17                           565892 non-null int64\n",
      "Soil_Type18                           565892 non-null int64\n",
      "Soil_Type19                           565892 non-null int64\n",
      "Soil_Type20                           565892 non-null int64\n",
      "Soil_Type21                           565892 non-null int64\n",
      "Soil_Type22                           565892 non-null int64\n",
      "Soil_Type23                           565892 non-null int64\n",
      "Soil_Type24                           565892 non-null int64\n",
      "Soil_Type25                           565892 non-null int64\n",
      "Soil_Type26                           565892 non-null int64\n",
      "Soil_Type27                           565892 non-null int64\n",
      "Soil_Type28                           565892 non-null int64\n",
      "Soil_Type29                           565892 non-null int64\n",
      "Soil_Type30                           565892 non-null int64\n",
      "Soil_Type31                           565892 non-null int64\n",
      "Soil_Type32                           565892 non-null int64\n",
      "Soil_Type33                           565892 non-null int64\n",
      "Soil_Type34                           565892 non-null int64\n",
      "Soil_Type35                           565892 non-null int64\n",
      "Soil_Type36                           565892 non-null int64\n",
      "Soil_Type37                           565892 non-null int64\n",
      "Soil_Type38                           565892 non-null int64\n",
      "Soil_Type39                           565892 non-null int64\n",
      "Soil_Type40                           565892 non-null int64\n",
      "Soil                                  565892 non-null int64\n",
      "Wilderness                            565892 non-null int64\n",
      "dtypes: int64(53), object(4)\n",
      "memory usage: 246.1+ MB\n"
     ]
    }
   ],
   "source": [
    "test.info()"
   ]
  },
  {
   "cell_type": "code",
   "execution_count": 107,
   "metadata": {
    "collapsed": true
   },
   "outputs": [],
   "source": [
    "test.to_csv('dd.csv')"
   ]
  },
  {
   "cell_type": "code",
   "execution_count": 108,
   "metadata": {
    "collapsed": true
   },
   "outputs": [],
   "source": [
    "test = pd.read_csv(r'C:\\Users\\Krishna Teja\\Desktop\\bigdata\\dd.csv')"
   ]
  },
  {
   "cell_type": "code",
   "execution_count": 109,
   "metadata": {
    "collapsed": false
   },
   "outputs": [
    {
     "name": "stdout",
     "output_type": "stream",
     "text": [
      "<class 'pandas.core.frame.DataFrame'>\n",
      "RangeIndex: 565892 entries, 0 to 565891\n",
      "Data columns (total 12 columns):\n",
      "Elevation                             565892 non-null object\n",
      "Aspect                                565892 non-null int64\n",
      "Slope                                 565892 non-null int64\n",
      "Horizontal_Distance_To_Hydrology      565892 non-null object\n",
      "Vertical_Distance_To_Hydrology        565892 non-null object\n",
      "Horizontal_Distance_To_Roadways       565892 non-null object\n",
      "Hillshade_9am                         565892 non-null int64\n",
      "Hillshade_Noon                        565892 non-null int64\n",
      "Hillshade_3pm                         565892 non-null int64\n",
      "Horizontal_Distance_To_Fire_Points    565892 non-null int64\n",
      "Soil                                  565892 non-null int64\n",
      "Wilderness                            565892 non-null int64\n",
      "dtypes: int64(8), object(4)\n",
      "memory usage: 51.8+ MB\n"
     ]
    }
   ],
   "source": [
    "test.info()"
   ]
  },
  {
   "cell_type": "code",
   "execution_count": 110,
   "metadata": {
    "collapsed": false
   },
   "outputs": [
    {
     "name": "stdout",
     "output_type": "stream",
     "text": [
      "<class 'pandas.core.frame.DataFrame'>\n",
      "RangeIndex: 15120 entries, 0 to 15119\n",
      "Data columns (total 13 columns):\n",
      "Elevation                             15120 non-null object\n",
      "Aspect                                15120 non-null int64\n",
      "Slope                                 15120 non-null int64\n",
      "Horizontal_Distance_To_Hydrology      15120 non-null object\n",
      "Vertical_Distance_To_Hydrology        15120 non-null object\n",
      "Horizontal_Distance_To_Roadways       15120 non-null object\n",
      "Hillshade_9am                         15120 non-null int64\n",
      "Hillshade_Noon                        15120 non-null int64\n",
      "Hillshade_3pm                         15120 non-null int64\n",
      "Horizontal_Distance_To_Fire_Points    15120 non-null int64\n",
      "Cover_Type                            15120 non-null int64\n",
      "Wilderness                            15120 non-null int64\n",
      "Soil                                  15120 non-null int64\n",
      "dtypes: int64(9), object(4)\n",
      "memory usage: 1.5+ MB\n"
     ]
    }
   ],
   "source": [
    "train.info()"
   ]
  },
  {
   "cell_type": "code",
   "execution_count": null,
   "metadata": {
    "collapsed": false
   },
   "outputs": [],
   "source": [
    "columnsToEncode = list(train.select_dtypes(include=['category','object']))\n",
    "le = preprocessing.LabelEncoder()\n",
    "train[\"Elevation\"]=train[\"Elevation\"].astype(str)\n",
    "train[\"Horizontal_Distance_To_Hydrology\"]=train[\"Horizontal_Distance_To_Hydrology\"].astype(str)\n",
    "train[\"Horizontal_Distance_To_Roadways\"]=train[\"Horizontal_Distance_To_Roadways\"].astype(str)\n",
    "train[\"Vertical_Distance_To_Hydrology\"]=train[\"Vertical_Distance_To_Hydrology\"].astype(str)\n",
    "for feature in columnsToEncode:\n",
    "    try:\n",
    "         train[feature] = le.fit_transform(train[feature])\n",
    "    except:\n",
    "         print('Error encoding '+feature)\n",
    "            \n",
    "columnsToEncode = list(test.select_dtypes(include=['category','object']))\n",
    "le = preprocessing.LabelEncoder()\n",
    "test[\"Elevation\"]=test[\"Elevation\"].astype(str)\n",
    "test[\"Horizontal_Distance_To_Hydrology\"]=test[\"Horizontal_Distance_To_Hydrology\"].astype(str)\n",
    "test[\"Horizontal_Distance_To_Roadways\"]=test[\"Horizontal_Distance_To_Roadways\"].astype(str)\n",
    "test[\"Vertical_Distance_To_Hydrology\"]=test[\"Vertical_Distance_To_Hydrology\"].astype(str)\n",
    "for feature in columnsToEncode:\n",
    "    try:\n",
    "         test[feature] = le.fit_transform(test[feature])\n",
    "    except:\n",
    "         print('Error encoding '+feature)\n",
    "\n",
    "\n",
    "\n",
    "\n",
    "data=train.ix[ :, train.columns != 'Cover_Type']\n",
    "target1=train['Cover_Type']\n",
    "\n",
    "forest = RandomForestClassifier(n_estimators = 500)\n",
    "# Fit the training data to the labels and create the decision trees\n",
    "forest = forest.fit(data,target1)\n",
    "\n",
    "# Take the model and run it on the test data\n",
    "predicted_classification = forest.predict(test).astype(int)\n",
    "predicted_classification.to_csv('pred3.csv')"
   ]
  },
  {
   "cell_type": "code",
   "execution_count": 125,
   "metadata": {
    "collapsed": false
   },
   "outputs": [
    {
     "name": "stdout",
     "output_type": "stream",
     "text": [
      "[7 7 7 ..., 1 1 1]\n"
     ]
    }
   ],
   "source": [
    "print predicted_classification"
   ]
  },
  {
   "cell_type": "code",
   "execution_count": 126,
   "metadata": {
    "collapsed": false
   },
   "outputs": [],
   "source": [
    "np.savetxt(\"predictd7d.csv\", predicted_classification.astype(int), delimiter=\",\")"
   ]
  },
  {
   "cell_type": "code",
   "execution_count": 127,
   "metadata": {
    "collapsed": true
   },
   "outputs": [],
   "source": [
    "test.to_csv('testingfinalbd.csv')"
   ]
  },
  {
   "cell_type": "code",
   "execution_count": null,
   "metadata": {
    "collapsed": true
   },
   "outputs": [],
   "source": []
  }
 ],
 "metadata": {
  "anaconda-cloud": {},
  "kernelspec": {
   "display_name": "Python [Root]",
   "language": "python",
   "name": "Python [Root]"
  },
  "language_info": {
   "codemirror_mode": {
    "name": "ipython",
    "version": 2
   },
   "file_extension": ".py",
   "mimetype": "text/x-python",
   "name": "python",
   "nbconvert_exporter": "python",
   "pygments_lexer": "ipython2",
   "version": "2.7.12"
  }
 },
 "nbformat": 4,
 "nbformat_minor": 0
}
